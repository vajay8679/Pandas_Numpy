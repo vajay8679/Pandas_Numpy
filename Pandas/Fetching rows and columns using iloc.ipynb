{
 "cells": [
  {
   "cell_type": "code",
   "execution_count": null,
   "metadata": {},
   "outputs": [],
   "source": [
    "#iloc \"integer location function\"\n",
    "#dataframe .iloc[row_ind,column]\n",
    "\n",
    "#selecting in  single element\n",
    "val = dataframe.iloc[row,column]\n",
    "\n",
    "#selecting in  specific row\n",
    "val = dataframe.iloc[row_index]\n",
    "\n",
    "\n",
    "#selecting a multiple row\n",
    "val = dataframe.iloc[startrow:endrow]\n",
    "\n",
    "#selecting a specific row and column\n",
    "val = dataframe.iloc[[row1,row2],[col1,col2]]\n",
    "\n",
    "\n",
    "#selecting all rows for specific column\n",
    "val = dataframe.iloc[:,[col1,col2]]"
   ]
  },
  {
   "cell_type": "code",
   "execution_count": 2,
   "metadata": {},
   "outputs": [
    {
     "name": "stdout",
     "output_type": "stream",
     "text": [
      "    name  age country\n",
      "0   ajay   24  indore\n",
      "1   amit   25  bhopal\n",
      "2  sumit   26     chw\n",
      "3  niraj   27   chand\n",
      "bhopal\n",
      "    name  age\n",
      "1   amit   25\n",
      "2  sumit   26\n"
     ]
    }
   ],
   "source": [
    "#example \n",
    "import pandas as pd\n",
    "data = {\"name\":['ajay','amit','sumit','niraj'],'age':[24,25,26,27],'country':['indore','bhopal','chw','chand']}\n",
    "\n",
    "df = pd.DataFrame(data)\n",
    "print(df)\n",
    "\n",
    "#selecting bhopal\n",
    "\n",
    "element = df.iloc[1,2]\n",
    "\n",
    "#selecting specific rows and column\n",
    "subset = df.iloc[1:3,0:2]\n",
    "\n",
    "print(element)\n",
    "print(subset)"
   ]
  },
  {
   "cell_type": "code",
   "execution_count": null,
   "metadata": {},
   "outputs": [],
   "source": []
  }
 ],
 "metadata": {
  "kernelspec": {
   "display_name": "Python 3",
   "language": "python",
   "name": "python3"
  },
  "language_info": {
   "codemirror_mode": {
    "name": "ipython",
    "version": 3
   },
   "file_extension": ".py",
   "mimetype": "text/x-python",
   "name": "python",
   "nbconvert_exporter": "python",
   "pygments_lexer": "ipython3",
   "version": "3.8.10"
  }
 },
 "nbformat": 4,
 "nbformat_minor": 4
}
