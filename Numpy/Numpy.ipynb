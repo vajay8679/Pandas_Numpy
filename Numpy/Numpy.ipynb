{
 "cells": [
  {
   "cell_type": "markdown",
   "metadata": {},
   "source": [
    "## https://github.com/sharadkhare/Complete-Python-NumPy-Tutorial-in-Hindi-With-Notes-"
   ]
  },
  {
   "cell_type": "code",
   "execution_count": 1,
   "metadata": {},
   "outputs": [
    {
     "name": "stdout",
     "output_type": "stream",
     "text": [
      "Requirement already satisfied: numpy in /home/zec/.local/lib/python3.8/site-packages (1.24.4)\n",
      "Note: you may need to restart the kernel to use updated packages.\n"
     ]
    }
   ],
   "source": [
    "#installation of numpy\n",
    "pip install numpy"
   ]
  },
  {
   "cell_type": "code",
   "execution_count": 2,
   "metadata": {},
   "outputs": [
    {
     "name": "stdout",
     "output_type": "stream",
     "text": [
      "[1 2 3 4 5]\n"
     ]
    }
   ],
   "source": [
    "import numpy as np\n",
    "sharad = np.array([1,2,3,4,5])\n",
    "print(sharad)"
   ]
  },
  {
   "cell_type": "code",
   "execution_count": 3,
   "metadata": {},
   "outputs": [
    {
     "name": "stdout",
     "output_type": "stream",
     "text": [
      "1.24.4\n"
     ]
    }
   ],
   "source": [
    "import numpy as np\n",
    "print(np.__version__)"
   ]
  },
  {
   "cell_type": "code",
   "execution_count": null,
   "metadata": {},
   "outputs": [],
   "source": []
  },
  {
   "cell_type": "code",
   "execution_count": 5,
   "metadata": {},
   "outputs": [
    {
     "name": "stdout",
     "output_type": "stream",
     "text": [
      "[1 2 3 4 5]\n",
      "<class 'numpy.ndarray'>\n"
     ]
    }
   ],
   "source": [
    "#create a numpy ndarray object - for creating ndarray we need to use array()\n",
    "\n",
    "import numpy as np\n",
    "a = np.array([1,2,3,4,5])\n",
    "print(a)\n",
    "print(type(a))"
   ]
  },
  {
   "cell_type": "code",
   "execution_count": 7,
   "metadata": {},
   "outputs": [
    {
     "name": "stdout",
     "output_type": "stream",
     "text": [
      "[1 2 3 4 5]\n",
      "<class 'numpy.ndarray'>\n"
     ]
    }
   ],
   "source": [
    "#what ever object you will pass in it, it will automatically get converted in nd array\n",
    "import numpy as np \n",
    "aj = np.array((1,2,3,4,5))\n",
    "print(aj)\n",
    "print(type(aj))"
   ]
  },
  {
   "cell_type": "code",
   "execution_count": 8,
   "metadata": {},
   "outputs": [
    {
     "name": "stdout",
     "output_type": "stream",
     "text": [
      "50\n"
     ]
    }
   ],
   "source": [
    "#dimension of array - nested array \n",
    "# 0D - create\n",
    "import numpy as np\n",
    "aj1 = np.array(50)\n",
    "print(aj1)"
   ]
  },
  {
   "cell_type": "code",
   "execution_count": 9,
   "metadata": {},
   "outputs": [
    {
     "name": "stdout",
     "output_type": "stream",
     "text": [
      "[1 2 3 4 5]\n"
     ]
    }
   ],
   "source": [
    "# create 1D\n",
    "import numpy as np\n",
    "aj1 = np.array([1,2,3,4,5])\n",
    "print(aj1)"
   ]
  },
  {
   "cell_type": "code",
   "execution_count": 13,
   "metadata": {},
   "outputs": [
    {
     "name": "stdout",
     "output_type": "stream",
     "text": [
      "[[ 1  2  3  4  5]\n",
      " [ 6  7  8  9 10]]\n"
     ]
    }
   ],
   "source": [
    "# create 2D\n",
    "import numpy as np\n",
    "aj1 = np.array([[1,2,3,4,5],[6,7,8,9,10]])\n",
    "print(aj1)"
   ]
  },
  {
   "cell_type": "code",
   "execution_count": 14,
   "metadata": {},
   "outputs": [
    {
     "name": "stdout",
     "output_type": "stream",
     "text": [
      "[[[1 2 3]\n",
      "  [4 5 6]]\n",
      "\n",
      " [[1 2 3]\n",
      "  [4 5 6]]]\n"
     ]
    }
   ],
   "source": [
    "# create 3D\n",
    "import numpy as np\n",
    "aj1 = np.array([[[1,2,3],[4,5,6]],[[1,2,3],[4,5,6]]])\n",
    "print(aj1)"
   ]
  },
  {
   "cell_type": "code",
   "execution_count": 15,
   "metadata": {},
   "outputs": [
    {
     "name": "stdout",
     "output_type": "stream",
     "text": [
      "0\n",
      "1\n",
      "2\n",
      "3\n"
     ]
    }
   ],
   "source": [
    "#checking the number of dimensions?\n",
    "#ndim\n",
    "import numpy as np\n",
    "a = np.array(42)\n",
    "b = np.array([1,2,3,4,5])\n",
    "c = np.array([[1,2,3,],[4,5,6]])\n",
    "d = np.array([[[1,2,3],[4,5,6]],[[1,2,3],[4,5,6]]])\n",
    "print(a.ndim)\n",
    "print(b.ndim)\n",
    "print(c.ndim)\n",
    "print(d.ndim)"
   ]
  },
  {
   "cell_type": "code",
   "execution_count": 18,
   "metadata": {},
   "outputs": [
    {
     "name": "stdout",
     "output_type": "stream",
     "text": [
      "[[[[[1 2 3 4 5]]]]]\n",
      "number of dimension are: 5\n"
     ]
    }
   ],
   "source": [
    "#higher dimension arrays - you can define the number of dimension by using ndmin argument\n",
    "import numpy as np\n",
    "b = np.array([1,2,3,4,5],ndmin=5)\n",
    "print(b)\n",
    "print(\"number of dimension are:\",b.ndim)"
   ]
  },
  {
   "cell_type": "code",
   "execution_count": null,
   "metadata": {},
   "outputs": [],
   "source": []
  },
  {
   "cell_type": "code",
   "execution_count": 19,
   "metadata": {},
   "outputs": [
    {
     "name": "stdout",
     "output_type": "stream",
     "text": [
      "2\n"
     ]
    }
   ],
   "source": [
    "# how to access the array elements\n",
    "# indexes in numpy are also starts with 0\n",
    "import numpy as np\n",
    "aj = np.array([1,2,3,4,5])\n",
    "print(aj[1])"
   ]
  },
  {
   "cell_type": "code",
   "execution_count": 20,
   "metadata": {},
   "outputs": [
    {
     "name": "stdout",
     "output_type": "stream",
     "text": [
      "5\n"
     ]
    }
   ],
   "source": [
    "aj = np.array([1,2,3,4,5])\n",
    "print(aj[1]+aj[2]) # 1D"
   ]
  },
  {
   "cell_type": "code",
   "execution_count": 22,
   "metadata": {},
   "outputs": [
    {
     "name": "stdout",
     "output_type": "stream",
     "text": [
      "2nd element on the first row is : 2\n",
      "2nd element on the first row is : 7\n"
     ]
    }
   ],
   "source": [
    "#access 2D\n",
    "aj1 = np.array([[1,2,4,5,6],[5,6,7,8,9]])\n",
    "print('2nd element on the first row is :',aj1[0,1])\n",
    "print('3nd element on the second row is :',aj1[1,2])"
   ]
  },
  {
   "cell_type": "code",
   "execution_count": 23,
   "metadata": {},
   "outputs": [
    {
     "name": "stdout",
     "output_type": "stream",
     "text": [
      "6\n"
     ]
    }
   ],
   "source": [
    "# accessing 3D\n",
    "aj2 = np.array([[[1,2,3],[4,5,6]],[[7,8,9],[10,11,12]]])\n",
    "\n",
    "# lets print 3rd element of 2nd array of the 1st array\n",
    "print(aj2[0,1,2])"
   ]
  },
  {
   "cell_type": "code",
   "execution_count": 24,
   "metadata": {},
   "outputs": [
    {
     "name": "stdout",
     "output_type": "stream",
     "text": [
      "last element from the 2nd dimension is:  9\n"
     ]
    }
   ],
   "source": [
    "# how to access element from negative indexing\n",
    "aj3 = np.array([[1,2,3,4,5],[5,6,7,8,9]])\n",
    "print('last element from the 2nd dimension is: ',aj3[1,-1])"
   ]
  },
  {
   "cell_type": "code",
   "execution_count": null,
   "metadata": {},
   "outputs": [],
   "source": []
  },
  {
   "cell_type": "code",
   "execution_count": 25,
   "metadata": {},
   "outputs": [
    {
     "name": "stdout",
     "output_type": "stream",
     "text": [
      "[2 3 4 5]\n"
     ]
    }
   ],
   "source": [
    "# numpy array slicing \n",
    "# [start:end] or [start:end:step]\n",
    "#slice element from index 1 to index 5\n",
    "\n",
    "import numpy as np\n",
    "aj4 = np.array([1,2,3,4,5,6,7])\n",
    "print(aj4[1:5])"
   ]
  },
  {
   "cell_type": "code",
   "execution_count": 26,
   "metadata": {},
   "outputs": [
    {
     "name": "stdout",
     "output_type": "stream",
     "text": [
      "[5 6 7]\n"
     ]
    }
   ],
   "source": [
    "#slice the element from index 4 to the end\n",
    "aj4 = np.array([1,2,3,4,5,6,7])\n",
    "print(aj4[4:])"
   ]
  },
  {
   "cell_type": "code",
   "execution_count": 27,
   "metadata": {},
   "outputs": [
    {
     "name": "stdout",
     "output_type": "stream",
     "text": [
      "[1 2 3 4]\n"
     ]
    }
   ],
   "source": [
    "# slice the elemnt from the neginning to index no 4\n",
    "aj4 = np.array([1,2,3,4,5,6,7])\n",
    "print(aj4[:4])"
   ]
  },
  {
   "cell_type": "code",
   "execution_count": 28,
   "metadata": {},
   "outputs": [
    {
     "name": "stdout",
     "output_type": "stream",
     "text": [
      "[5 6 7]\n"
     ]
    }
   ],
   "source": [
    "# negative indexing  - use minus operator to refer to an index from end \n",
    "# slice from the index 3 from the end\n",
    "\n",
    "aj5 = np.array([1,2,3,4,5,6,7])\n",
    "print(aj5[4:])"
   ]
  },
  {
   "cell_type": "code",
   "execution_count": 30,
   "metadata": {},
   "outputs": [
    {
     "name": "stdout",
     "output_type": "stream",
     "text": [
      "[2 4]\n"
     ]
    }
   ],
   "source": [
    "#step in slicing\n",
    "#return every other element from index 1 to index 5\n",
    "aj5 = np.array([1,2,3,4,5,6,7])\n",
    "print(aj5[1:5:2])"
   ]
  },
  {
   "cell_type": "code",
   "execution_count": 31,
   "metadata": {},
   "outputs": [
    {
     "name": "stdout",
     "output_type": "stream",
     "text": [
      "[1 3 5 7]\n"
     ]
    }
   ],
   "source": [
    "#return every other element from whole array\n",
    "aj5 = np.array([1,2,3,4,5,6,7])\n",
    "print(aj5[::2])"
   ]
  },
  {
   "cell_type": "code",
   "execution_count": 32,
   "metadata": {},
   "outputs": [
    {
     "name": "stdout",
     "output_type": "stream",
     "text": [
      "[6 7 9]\n"
     ]
    }
   ],
   "source": [
    "#slicing the 2D array\n",
    "# from the 2nd element, slice element from the index 1 to index 4 \n",
    "aj6 = np.array([[1,2,3,4,5],[5,6,7,9,8]])\n",
    "print(aj6[1,1:4])"
   ]
  },
  {
   "cell_type": "code",
   "execution_count": 33,
   "metadata": {},
   "outputs": [
    {
     "name": "stdout",
     "output_type": "stream",
     "text": [
      "[3 7]\n"
     ]
    }
   ],
   "source": [
    "# from both elements, return index 2\n",
    "aj6 = np.array([[1,2,3,4,5],[5,6,7,9,8]])\n",
    "print(aj6[0:2,2])"
   ]
  },
  {
   "cell_type": "code",
   "execution_count": 34,
   "metadata": {},
   "outputs": [
    {
     "name": "stdout",
     "output_type": "stream",
     "text": [
      "[[2 3 4]\n",
      " [6 7 9]]\n"
     ]
    }
   ],
   "source": [
    "# from both element , we will slice index 1 to 4 index(not included ), this will return a 2 d array\n",
    "aj6 = np.array([[1,2,3,4,5],[5,6,7,9,8]])\n",
    "print(aj6[0:2,1:4])"
   ]
  },
  {
   "cell_type": "code",
   "execution_count": null,
   "metadata": {},
   "outputs": [],
   "source": []
  },
  {
   "cell_type": "code",
   "execution_count": 36,
   "metadata": {},
   "outputs": [
    {
     "name": "stdout",
     "output_type": "stream",
     "text": [
      "int64\n"
     ]
    }
   ],
   "source": [
    "#numpy  data types\n",
    "#like i for int, b for boolean , f for float\n",
    "# the numpy array object has a property called dtype that return the data type of an array\n",
    "\n",
    "aj7 = np.array([1,2,3,4])\n",
    "print(aj7.dtype)"
   ]
  },
  {
   "cell_type": "code",
   "execution_count": 38,
   "metadata": {},
   "outputs": [
    {
     "name": "stdout",
     "output_type": "stream",
     "text": [
      "<U5\n"
     ]
    }
   ],
   "source": [
    "aj7 = np.array(['ajay','amit','sumit'])\n",
    "print(aj7.dtype)"
   ]
  },
  {
   "cell_type": "code",
   "execution_count": 40,
   "metadata": {},
   "outputs": [
    {
     "name": "stdout",
     "output_type": "stream",
     "text": [
      "[b'1' b'2' b'3' b'4']\n",
      "|S1\n"
     ]
    }
   ],
   "source": [
    "# creating array with a defined data type\n",
    "aj8 = np.array([1,2,3,4],dtype='S')\n",
    "print(aj8)\n",
    "print(aj8.dtype)"
   ]
  },
  {
   "cell_type": "code",
   "execution_count": 41,
   "metadata": {},
   "outputs": [
    {
     "name": "stdout",
     "output_type": "stream",
     "text": [
      "[1 2 3 4]\n",
      "int32\n"
     ]
    }
   ],
   "source": [
    "# create an array with a data type 4 bytes integer\n",
    "aj9 = np.array([1,2,3,4],dtype='i4')\n",
    "print(aj9)\n",
    "print(aj9.dtype)"
   ]
  },
  {
   "cell_type": "code",
   "execution_count": 44,
   "metadata": {},
   "outputs": [
    {
     "ename": "ValueError",
     "evalue": "invalid literal for int() with base 10: 'a'",
     "output_type": "error",
     "traceback": [
      "\u001b[0;31m---------------------------------------------------------------------------\u001b[0m",
      "\u001b[0;31mValueError\u001b[0m                                Traceback (most recent call last)",
      "\u001b[0;32m<ipython-input-44-b02bb8311178>\u001b[0m in \u001b[0;36m<module>\u001b[0;34m\u001b[0m\n\u001b[1;32m      1\u001b[0m \u001b[0;31m# value error\u001b[0m\u001b[0;34m\u001b[0m\u001b[0;34m\u001b[0m\u001b[0;34m\u001b[0m\u001b[0m\n\u001b[0;32m----> 2\u001b[0;31m \u001b[0maj9\u001b[0m \u001b[0;34m=\u001b[0m \u001b[0mnp\u001b[0m\u001b[0;34m.\u001b[0m\u001b[0marray\u001b[0m\u001b[0;34m(\u001b[0m\u001b[0;34m[\u001b[0m\u001b[0;34m'a'\u001b[0m\u001b[0;34m,\u001b[0m\u001b[0;34m'2'\u001b[0m\u001b[0;34m,\u001b[0m\u001b[0;34m'3'\u001b[0m\u001b[0;34m]\u001b[0m\u001b[0;34m,\u001b[0m\u001b[0mdtype\u001b[0m\u001b[0;34m=\u001b[0m\u001b[0;34m'i'\u001b[0m\u001b[0;34m)\u001b[0m\u001b[0;34m\u001b[0m\u001b[0;34m\u001b[0m\u001b[0m\n\u001b[0m\u001b[1;32m      3\u001b[0m \u001b[0;34m\u001b[0m\u001b[0m\n\u001b[1;32m      4\u001b[0m \u001b[0mprint\u001b[0m\u001b[0;34m(\u001b[0m\u001b[0maj9\u001b[0m\u001b[0;34m.\u001b[0m\u001b[0mdtype\u001b[0m\u001b[0;34m)\u001b[0m\u001b[0;34m\u001b[0m\u001b[0;34m\u001b[0m\u001b[0m\n",
      "\u001b[0;31mValueError\u001b[0m: invalid literal for int() with base 10: 'a'"
     ]
    }
   ],
   "source": [
    "# value error \n",
    "aj9 = np.array(['a','2','3'],dtype='i')\n",
    "\n",
    "print(aj9.dtype)"
   ]
  },
  {
   "cell_type": "code",
   "execution_count": 47,
   "metadata": {},
   "outputs": [
    {
     "name": "stdout",
     "output_type": "stream",
     "text": [
      "[1 2 4]\n",
      "int32\n"
     ]
    }
   ],
   "source": [
    "#converting  data type on an existing arrays() - astype()\n",
    "# example - change data type from float to integer by using 'i'\n",
    "\n",
    "a10 = np.array([1.1,2.1,4.1])\n",
    "a101 = a10.astype('i')\n",
    "print(a101)\n",
    "print(a101.dtype)"
   ]
  },
  {
   "cell_type": "code",
   "execution_count": 49,
   "metadata": {},
   "outputs": [
    {
     "name": "stdout",
     "output_type": "stream",
     "text": [
      "[ True  True  True  True False]\n",
      "bool\n"
     ]
    }
   ],
   "source": [
    "# change data type from integer to boolean\n",
    "b = np.array([1,2,3,4,0])\n",
    "b1 = b.astype(bool)\n",
    "print(b1)\n",
    "print(b1.dtype)"
   ]
  },
  {
   "cell_type": "code",
   "execution_count": null,
   "metadata": {},
   "outputs": [],
   "source": [
    "# List of all data type in numpy\n",
    "i - integer\n",
    "b - boolean\n",
    "c - insigned integer\n",
    "f - float\n",
    "c - complex float\n",
    "m - timedelta\n",
    "M - datetime\n",
    "O - object\n",
    "S - string\n",
    "U - Unicode string\n"
   ]
  },
  {
   "cell_type": "code",
   "execution_count": null,
   "metadata": {},
   "outputs": [],
   "source": []
  },
  {
   "cell_type": "code",
   "execution_count": 50,
   "metadata": {},
   "outputs": [
    {
     "name": "stdout",
     "output_type": "stream",
     "text": [
      "[45  2  3  4  5]\n",
      "[1 2 3 4 5]\n"
     ]
    }
   ],
   "source": [
    "# the difference between copy and view\n",
    "# example of copy (dosent affect)\n",
    "\n",
    "c = np.array([1,2,3,4,5])\n",
    "x = c.copy()\n",
    "c[0] = 45\n",
    "print(c)\n",
    "print(x)"
   ]
  },
  {
   "cell_type": "code",
   "execution_count": 51,
   "metadata": {},
   "outputs": [
    {
     "name": "stdout",
     "output_type": "stream",
     "text": [
      "[45  2  3  4  5]\n",
      "[45  2  3  4  5]\n"
     ]
    }
   ],
   "source": [
    "# example of view (affect)\n",
    "\n",
    "c = np.array([1,2,3,4,5])\n",
    "x = c.view()\n",
    "c[0] = 45\n",
    "print(c)\n",
    "print(x)"
   ]
  },
  {
   "cell_type": "code",
   "execution_count": 52,
   "metadata": {},
   "outputs": [
    {
     "name": "stdout",
     "output_type": "stream",
     "text": [
      "None\n",
      "[1 2 3 4 5]\n"
     ]
    }
   ],
   "source": [
    "# check if array owns its data\n",
    "# print the value of the base attribute to check if an array own its data or not\n",
    "\n",
    "# example of copy (dosent affect)\n",
    "\n",
    "c = np.array([1,2,3,4,5])\n",
    "x = c.copy()\n",
    "y = c.view()\n",
    "print(x.base)\n",
    "print(y.base)"
   ]
  },
  {
   "cell_type": "code",
   "execution_count": null,
   "metadata": {},
   "outputs": [],
   "source": []
  },
  {
   "cell_type": "code",
   "execution_count": 53,
   "metadata": {},
   "outputs": [
    {
     "name": "stdout",
     "output_type": "stream",
     "text": [
      "(2, 4)\n"
     ]
    }
   ],
   "source": [
    "# numpy array shapes\n",
    "# print the shape of 2 d array\n",
    "d = np.array([[1,2,3,4],[5,6,7,8]])\n",
    "print(d.shape)"
   ]
  },
  {
   "cell_type": "code",
   "execution_count": 54,
   "metadata": {},
   "outputs": [
    {
     "name": "stdout",
     "output_type": "stream",
     "text": [
      "[[[[[1 2 3 4 5]]]]]\n",
      "shape of array : (1, 1, 1, 1, 5)\n"
     ]
    }
   ],
   "source": [
    "d = np.array([1,2,3,4,5],ndmin = 5)\n",
    "print(d)\n",
    "print('shape of array :',d.shape)"
   ]
  },
  {
   "cell_type": "code",
   "execution_count": null,
   "metadata": {},
   "outputs": [],
   "source": [
    "# what does the shape tuple reperesnts?"
   ]
  },
  {
   "cell_type": "code",
   "execution_count": null,
   "metadata": {},
   "outputs": [],
   "source": []
  },
  {
   "cell_type": "code",
   "execution_count": 56,
   "metadata": {},
   "outputs": [
    {
     "name": "stdout",
     "output_type": "stream",
     "text": [
      "[[ 1  2  3]\n",
      " [ 4  5  6]\n",
      " [ 7  8  9]\n",
      " [10 11 12]]\n"
     ]
    }
   ],
   "source": [
    "# numpy array reshaping\n",
    "# reshape from 1d to 2d\n",
    "\n",
    "e = np.array([1,2,3,4,5,6,7,8,9,10,11,12])\n",
    "e1 = e.reshape(4,3)\n",
    "print(e1)"
   ]
  },
  {
   "cell_type": "code",
   "execution_count": 57,
   "metadata": {},
   "outputs": [
    {
     "name": "stdout",
     "output_type": "stream",
     "text": [
      "[[[ 1  2]\n",
      "  [ 3  4]\n",
      "  [ 5  6]]\n",
      "\n",
      " [[ 7  8]\n",
      "  [ 9 10]\n",
      "  [11 12]]]\n"
     ]
    }
   ],
   "source": [
    "# reshape from 1d to 3d\n",
    "e = np.array([1,2,3,4,5,6,7,8,9,10,11,12])\n",
    "e1 = e.reshape(2,3,2)\n",
    "print(e1)"
   ]
  },
  {
   "cell_type": "code",
   "execution_count": 58,
   "metadata": {},
   "outputs": [
    {
     "ename": "ValueError",
     "evalue": "cannot reshape array of size 7 into shape (3,3)",
     "output_type": "error",
     "traceback": [
      "\u001b[0;31m---------------------------------------------------------------------------\u001b[0m",
      "\u001b[0;31mValueError\u001b[0m                                Traceback (most recent call last)",
      "\u001b[0;32m<ipython-input-58-150ee76011d8>\u001b[0m in \u001b[0;36m<module>\u001b[0;34m\u001b[0m\n\u001b[1;32m      2\u001b[0m \u001b[0;31m# try to convert 1d array with 8 element to 2d array with 3 element each dimension\u001b[0m\u001b[0;34m\u001b[0m\u001b[0;34m\u001b[0m\u001b[0;34m\u001b[0m\u001b[0m\n\u001b[1;32m      3\u001b[0m \u001b[0me\u001b[0m \u001b[0;34m=\u001b[0m \u001b[0mnp\u001b[0m\u001b[0;34m.\u001b[0m\u001b[0marray\u001b[0m\u001b[0;34m(\u001b[0m\u001b[0;34m[\u001b[0m\u001b[0;36m1\u001b[0m\u001b[0;34m,\u001b[0m\u001b[0;36m2\u001b[0m\u001b[0;34m,\u001b[0m\u001b[0;36m3\u001b[0m\u001b[0;34m,\u001b[0m\u001b[0;36m4\u001b[0m\u001b[0;34m,\u001b[0m\u001b[0;36m5\u001b[0m\u001b[0;34m,\u001b[0m\u001b[0;36m6\u001b[0m\u001b[0;34m,\u001b[0m\u001b[0;36m7\u001b[0m\u001b[0;34m]\u001b[0m\u001b[0;34m)\u001b[0m\u001b[0;34m\u001b[0m\u001b[0;34m\u001b[0m\u001b[0m\n\u001b[0;32m----> 4\u001b[0;31m \u001b[0me1\u001b[0m \u001b[0;34m=\u001b[0m \u001b[0me\u001b[0m\u001b[0;34m.\u001b[0m\u001b[0mreshape\u001b[0m\u001b[0;34m(\u001b[0m\u001b[0;36m3\u001b[0m\u001b[0;34m,\u001b[0m\u001b[0;36m3\u001b[0m\u001b[0;34m)\u001b[0m\u001b[0;34m\u001b[0m\u001b[0;34m\u001b[0m\u001b[0m\n\u001b[0m\u001b[1;32m      5\u001b[0m \u001b[0mprint\u001b[0m\u001b[0;34m(\u001b[0m\u001b[0me1\u001b[0m\u001b[0;34m)\u001b[0m\u001b[0;34m\u001b[0m\u001b[0;34m\u001b[0m\u001b[0m\n",
      "\u001b[0;31mValueError\u001b[0m: cannot reshape array of size 7 into shape (3,3)"
     ]
    }
   ],
   "source": [
    "# can we reshape into any shape\n",
    "# try to convert 1d array with 8 element to 2d array with 3 element each dimension\n",
    "e = np.array([1,2,3,4,5,6,7])\n",
    "e1 = e.reshape(3,3)\n",
    "print(e1)"
   ]
  },
  {
   "cell_type": "code",
   "execution_count": 59,
   "metadata": {},
   "outputs": [
    {
     "name": "stdout",
     "output_type": "stream",
     "text": [
      "[[[1 2]\n",
      "  [3 4]]\n",
      "\n",
      " [[5 6]\n",
      "  [7 8]]]\n"
     ]
    }
   ],
   "source": [
    "# converting 1d array to 8 element to 3d (2*2)\n",
    "e = np.array([1,2,3,4,5,6,7,8])\n",
    "e1 = e.reshape(2,2,-1) # unknown dim\n",
    "print(e1)"
   ]
  },
  {
   "cell_type": "code",
   "execution_count": 60,
   "metadata": {},
   "outputs": [
    {
     "name": "stdout",
     "output_type": "stream",
     "text": [
      "[1 2 3 4 5 6]\n"
     ]
    }
   ],
   "source": [
    "# flattening the array\n",
    "#use reshape (-1)\n",
    "d = np.array([[1,2,3],[4,5,6]])\n",
    "d1 = d.reshape(-1)\n",
    "print(d1)"
   ]
  },
  {
   "cell_type": "code",
   "execution_count": null,
   "metadata": {},
   "outputs": [],
   "source": []
  },
  {
   "cell_type": "code",
   "execution_count": 61,
   "metadata": {},
   "outputs": [
    {
     "name": "stdout",
     "output_type": "stream",
     "text": [
      "1\n",
      "2\n",
      "3\n",
      "4\n"
     ]
    }
   ],
   "source": [
    "# numpy array iterating\n",
    "#iterating 1d example\n",
    "\n",
    "g = np.array([1,2,3,4]) #1d\n",
    "for x in g:\n",
    "    print(x)"
   ]
  },
  {
   "cell_type": "code",
   "execution_count": 63,
   "metadata": {},
   "outputs": [
    {
     "name": "stdout",
     "output_type": "stream",
     "text": [
      "[1 2 3]\n",
      "[4 5 6]\n"
     ]
    }
   ],
   "source": [
    "#iterating 2d example\n",
    "\n",
    "g = np.array([[1,2,3],[4,5,6]]) #2d\n",
    "for x in g:\n",
    "    print(x)"
   ]
  },
  {
   "cell_type": "code",
   "execution_count": 64,
   "metadata": {},
   "outputs": [
    {
     "name": "stdout",
     "output_type": "stream",
     "text": [
      "1\n",
      "2\n",
      "3\n",
      "4\n",
      "5\n",
      "6\n"
     ]
    }
   ],
   "source": [
    "#iterating on each scale element of 2d \n",
    "g = np.array([[1,2,3],[4,5,6]]) #2d\n",
    "for x in g:\n",
    "    for y in x:\n",
    "        print(y)"
   ]
  },
  {
   "cell_type": "code",
   "execution_count": 68,
   "metadata": {},
   "outputs": [
    {
     "name": "stdout",
     "output_type": "stream",
     "text": [
      "[[1 2 3]\n",
      " [4 5 6]]\n",
      "[[4 5 6]\n",
      " [6 7 8]]\n"
     ]
    }
   ],
   "source": [
    "g = np.array([[[1,2,3],[4,5,6]],[[4,5,6],[6,7,8]]]) #3d\n",
    "for x in g:\n",
    "    print(x)"
   ]
  },
  {
   "cell_type": "code",
   "execution_count": 67,
   "metadata": {},
   "outputs": [
    {
     "name": "stdout",
     "output_type": "stream",
     "text": [
      "1\n",
      "2\n",
      "3\n",
      "4\n",
      "5\n",
      "6\n",
      "4\n",
      "5\n",
      "6\n",
      "6\n",
      "7\n",
      "8\n"
     ]
    }
   ],
   "source": [
    "#iterating on each scale element of 3d \n",
    "g = np.array([[[1,2,3],[4,5,6]],[[4,5,6],[6,7,8]]]) #3d\n",
    "for x in g:\n",
    "    for y in x:\n",
    "        for z in y:\n",
    "            print(z)"
   ]
  },
  {
   "cell_type": "code",
   "execution_count": 69,
   "metadata": {},
   "outputs": [
    {
     "name": "stdout",
     "output_type": "stream",
     "text": [
      "1\n",
      "2\n",
      "3\n",
      "4\n",
      "4\n",
      "5\n",
      "6\n",
      "7\n"
     ]
    }
   ],
   "source": [
    "# you can use another way by using nditer()\n",
    "# iterate through  3d by using nditer()\n",
    "a = np.array([[[1,2],[3,4]],[[4,5],[6,7]]])\n",
    "for x in np.nditer(a):\n",
    "    print(x)"
   ]
  },
  {
   "cell_type": "code",
   "execution_count": null,
   "metadata": {},
   "outputs": [],
   "source": []
  },
  {
   "cell_type": "code",
   "execution_count": 70,
   "metadata": {},
   "outputs": [
    {
     "name": "stdout",
     "output_type": "stream",
     "text": [
      "[1 2 3 4 4 5 6 7]\n"
     ]
    }
   ],
   "source": [
    "# joining the numpy arrays \n",
    "# join 2 array\n",
    "\n",
    "a = np.array([1,2,3,4])\n",
    "a1 = np.array([4,5,6,7])\n",
    "a2 = np.concatenate((a,a1))\n",
    "print(a2)"
   ]
  },
  {
   "cell_type": "code",
   "execution_count": 72,
   "metadata": {},
   "outputs": [
    {
     "name": "stdout",
     "output_type": "stream",
     "text": [
      "[[ 1  2 11 21]\n",
      " [ 3  4 31 41]]\n"
     ]
    }
   ],
   "source": [
    "# join two 2d along with rows (axis = 1)\n",
    "a = np.array([[1,2],[3,4]])\n",
    "a1 = np.array([[11,21],[31,41]])\n",
    "a2 = np.concatenate((a,a1),axis=1)\n",
    "print(a2)"
   ]
  },
  {
   "cell_type": "code",
   "execution_count": 73,
   "metadata": {},
   "outputs": [
    {
     "name": "stdout",
     "output_type": "stream",
     "text": [
      "[[1 4]\n",
      " [2 5]\n",
      " [3 6]]\n"
     ]
    }
   ],
   "source": [
    "# joining the array using stack func.\n",
    "a = np.array([1,2,3])\n",
    "b = np.array([4,5,6])\n",
    "c = np.stack((a,b),axis=1)\n",
    "print(c)"
   ]
  },
  {
   "cell_type": "code",
   "execution_count": 76,
   "metadata": {},
   "outputs": [
    {
     "name": "stdout",
     "output_type": "stream",
     "text": [
      "[1 2 3 4 5 6]\n",
      "[[1 2 3]\n",
      " [4 5 6]]\n",
      "[[[1 4]\n",
      "  [2 5]\n",
      "  [3 6]]]\n"
     ]
    }
   ],
   "source": [
    "#different types of stack.(very important)\n",
    "a = np.array([1,2,3])\n",
    "b = np.array([4,5,6])\n",
    "c = np.hstack((a,b))\n",
    "d = np.vstack((a,b))\n",
    "e = np.dstack((a,b))\n",
    "print(c)\n",
    "print(d)\n",
    "print(e)"
   ]
  },
  {
   "cell_type": "code",
   "execution_count": null,
   "metadata": {},
   "outputs": [],
   "source": []
  },
  {
   "cell_type": "code",
   "execution_count": 77,
   "metadata": {},
   "outputs": [
    {
     "name": "stdout",
     "output_type": "stream",
     "text": [
      "[array([1, 2]), array([3, 4]), array([5, 6])]\n"
     ]
    }
   ],
   "source": [
    "#numpy splitting array - reverse operation of joining\n",
    "# use array_split()\n",
    "\n",
    "a = np.array([1,2,3,4,5,6])\n",
    "b = np.array_split(a,3)\n",
    "print(b)"
   ]
  },
  {
   "cell_type": "code",
   "execution_count": 78,
   "metadata": {},
   "outputs": [
    {
     "name": "stdout",
     "output_type": "stream",
     "text": [
      "[array([1, 2]), array([3, 4]), array([5]), array([6])]\n"
     ]
    }
   ],
   "source": [
    "# what if the elements are less\n",
    "a = np.array([1,2,3,4,5,6])\n",
    "b = np.array_split(a,4) # dont use split() , try to use array_split() - it adjust elemnt\n",
    "print(b)"
   ]
  },
  {
   "cell_type": "code",
   "execution_count": 80,
   "metadata": {},
   "outputs": [
    {
     "name": "stdout",
     "output_type": "stream",
     "text": [
      "[1 2]\n",
      "[3 4]\n",
      "[5 6]\n"
     ]
    }
   ],
   "source": [
    "# split into array\n",
    "a = np.array([1,2,3,4,5,6])\n",
    "b = np.array_split(a,3)\n",
    "print(b[0])\n",
    "print(b[1])\n",
    "print(b[2])"
   ]
  },
  {
   "cell_type": "code",
   "execution_count": 84,
   "metadata": {},
   "outputs": [
    {
     "name": "stdout",
     "output_type": "stream",
     "text": [
      "[array([[1, 2],\n",
      "       [3, 4]]), array([[5, 6],\n",
      "       [7, 8]]), array([[ 9, 10],\n",
      "       [11, 12]])]\n"
     ]
    }
   ],
   "source": [
    "# split 2d array\n",
    "a = np.array([[1,2],[3,4],[5,6],[7,8],[9,10],[11,12]])\n",
    "b = np.array_split(a,3)\n",
    "print(b)\n"
   ]
  },
  {
   "cell_type": "code",
   "execution_count": 85,
   "metadata": {},
   "outputs": [
    {
     "name": "stdout",
     "output_type": "stream",
     "text": [
      "[array([[1, 2],\n",
      "       [3, 4]]), array([[5, 6],\n",
      "       [7, 8]]), array([[ 9, 10]]), array([[11, 12]])]\n"
     ]
    }
   ],
   "source": [
    "# split 2d array\n",
    "a = np.array([[1,2],[3,4],[5,6],[7,8],[9,10],[11,12]])\n",
    "b = np.array_split(a,4)\n",
    "print(b)\n"
   ]
  },
  {
   "cell_type": "code",
   "execution_count": 86,
   "metadata": {},
   "outputs": [
    {
     "name": "stdout",
     "output_type": "stream",
     "text": [
      "[array([[ 1],\n",
      "       [ 3],\n",
      "       [ 5],\n",
      "       [ 7],\n",
      "       [ 9],\n",
      "       [11]]), array([[ 2],\n",
      "       [ 4],\n",
      "       [ 6],\n",
      "       [ 8],\n",
      "       [10],\n",
      "       [12]]), array([[ 3],\n",
      "       [ 5],\n",
      "       [ 7],\n",
      "       [ 9],\n",
      "       [11],\n",
      "       [13]])]\n"
     ]
    }
   ],
   "source": [
    "# split the 2d array into 3 2d as per row\n",
    "a = np.array([[1,2,3],[3,4,5],[5,6,7],[7,8,9],[9,10,11],[11,12,13]])\n",
    "b = np.array_split(a,3, axis = 1)\n",
    "print(b)\n"
   ]
  },
  {
   "cell_type": "code",
   "execution_count": 88,
   "metadata": {},
   "outputs": [
    {
     "name": "stdout",
     "output_type": "stream",
     "text": [
      "[array([[ 1],\n",
      "       [ 3],\n",
      "       [ 5],\n",
      "       [ 7],\n",
      "       [ 9],\n",
      "       [11]]), array([[ 2],\n",
      "       [ 4],\n",
      "       [ 6],\n",
      "       [ 8],\n",
      "       [10],\n",
      "       [12]]), array([[ 3],\n",
      "       [ 5],\n",
      "       [ 7],\n",
      "       [ 9],\n",
      "       [11],\n",
      "       [13]])]\n"
     ]
    }
   ],
   "source": [
    "#use hsplit or hstack method to split the 2d array into 2d array along with rows\n",
    "a = np.array([[1,2,3],[3,4,5],[5,6,7],[7,8,9],[9,10,11],[11,12,13]])\n",
    "b = np.hsplit(a,3)\n",
    "print(b)"
   ]
  },
  {
   "cell_type": "code",
   "execution_count": null,
   "metadata": {},
   "outputs": [],
   "source": []
  },
  {
   "cell_type": "code",
   "execution_count": 90,
   "metadata": {},
   "outputs": [
    {
     "name": "stdout",
     "output_type": "stream",
     "text": [
      "(array([3, 5, 8]),)\n"
     ]
    }
   ],
   "source": [
    "# numpy searching array\n",
    "# where()\n",
    "\n",
    "a = np.array([1,2,3,4,5,4,6,7,4])\n",
    "x = np.where(a ==4)\n",
    "print(x)"
   ]
  },
  {
   "cell_type": "code",
   "execution_count": 91,
   "metadata": {},
   "outputs": [
    {
     "name": "stdout",
     "output_type": "stream",
     "text": [
      "(array([1, 3, 5, 7]),)\n"
     ]
    }
   ],
   "source": [
    "#find index where value are even\n",
    "\n",
    "a = np.array([1,2,3,4,5,6,7,8])\n",
    "x = np.where(a%2 ==0)\n",
    "print(x)"
   ]
  },
  {
   "cell_type": "code",
   "execution_count": 92,
   "metadata": {},
   "outputs": [
    {
     "name": "stdout",
     "output_type": "stream",
     "text": [
      "(array([0, 2, 4, 7]),)\n"
     ]
    }
   ],
   "source": [
    "#find the index where value are odd\n",
    "\n",
    "a = np.array([1,2,3,4,5,4,6,7,4])\n",
    "x = np.where(a%2 ==1)\n",
    "print(x)"
   ]
  },
  {
   "cell_type": "code",
   "execution_count": 104,
   "metadata": {},
   "outputs": [
    {
     "name": "stdout",
     "output_type": "stream",
     "text": [
      "2\n"
     ]
    }
   ],
   "source": [
    "# searchsorted() method by default from left to right\n",
    "x = np.array([5,6,7,8,9])\n",
    "b = np.searchsorted(x,7)\n",
    "print(b)"
   ]
  },
  {
   "cell_type": "code",
   "execution_count": 107,
   "metadata": {},
   "outputs": [
    {
     "name": "stdout",
     "output_type": "stream",
     "text": [
      "4\n"
     ]
    }
   ],
   "source": [
    "# search from right to left\n",
    "x1 = np.array([5,6,7,8])\n",
    "b1 = np.searchsorted(x1,8,side='right')\n",
    "print(b1)"
   ]
  },
  {
   "cell_type": "code",
   "execution_count": 108,
   "metadata": {},
   "outputs": [
    {
     "name": "stdout",
     "output_type": "stream",
     "text": [
      "[1 2 3]\n"
     ]
    }
   ],
   "source": [
    "#searching multiple values \n",
    "\n",
    "x = np.array([1,3,5,7])\n",
    "b = np.searchsorted(x,[2,4,6])\n",
    "print(b)"
   ]
  },
  {
   "cell_type": "code",
   "execution_count": null,
   "metadata": {},
   "outputs": [],
   "source": []
  },
  {
   "cell_type": "code",
   "execution_count": 110,
   "metadata": {},
   "outputs": [
    {
     "name": "stdout",
     "output_type": "stream",
     "text": [
      "[0 1 2 3]\n",
      "[3 2 0 1]\n"
     ]
    }
   ],
   "source": [
    "# numpy sorting arrays\n",
    "# sort()\n",
    "a = np.array([3,2,0,1])\n",
    "print(np.sort(a))\n",
    "print(a)"
   ]
  },
  {
   "cell_type": "code",
   "execution_count": 111,
   "metadata": {},
   "outputs": [
    {
     "name": "stdout",
     "output_type": "stream",
     "text": [
      "['apple' 'banana' 'kiwi' 'orange']\n"
     ]
    }
   ],
   "source": [
    "#we can sort any data type\n",
    "\n",
    "a = np.array(['apple','banana','orange','kiwi'])\n",
    "print(np.sort(a))"
   ]
  },
  {
   "cell_type": "code",
   "execution_count": 112,
   "metadata": {},
   "outputs": [
    {
     "name": "stdout",
     "output_type": "stream",
     "text": [
      "[[0 2 3]\n",
      " [1 2 3]]\n"
     ]
    }
   ],
   "source": [
    "# sorting two d array\n",
    "a = np.array([[3,2,0],[1,3,2]])\n",
    "print(np.sort(a))"
   ]
  },
  {
   "cell_type": "code",
   "execution_count": null,
   "metadata": {},
   "outputs": [],
   "source": []
  },
  {
   "cell_type": "code",
   "execution_count": 113,
   "metadata": {},
   "outputs": [
    {
     "name": "stdout",
     "output_type": "stream",
     "text": [
      "[41 43]\n"
     ]
    }
   ],
   "source": [
    "#numpy array filter \n",
    "#create an array from the element on index 0 to 2\n",
    "\n",
    "a = np.array([41,42,43,44])\n",
    "x = [True,False,True,False]\n",
    "b = a[x]\n",
    "print(b)"
   ]
  },
  {
   "cell_type": "code",
   "execution_count": 114,
   "metadata": {},
   "outputs": [
    {
     "name": "stdout",
     "output_type": "stream",
     "text": [
      "[False, False, True, True]\n",
      "[43 44]\n"
     ]
    }
   ],
   "source": [
    "# creating the filter array\n",
    "a = np.array([41,42,43,44])\n",
    "#create an empty list\n",
    "b = []\n",
    "for i in a:\n",
    "    if i > 42:\n",
    "        b.append(True)\n",
    "    else:\n",
    "        b.append(False)\n",
    "c = a[b]\n",
    "print(b)\n",
    "print(c)"
   ]
  },
  {
   "cell_type": "code",
   "execution_count": null,
   "metadata": {},
   "outputs": [],
   "source": []
  },
  {
   "cell_type": "code",
   "execution_count": 115,
   "metadata": {},
   "outputs": [
    {
     "name": "stdout",
     "output_type": "stream",
     "text": [
      "96\n"
     ]
    }
   ],
   "source": [
    "#numpy random numbers\n",
    "#this is random number generated through a algorith called pseudo random\n",
    "from numpy import random\n",
    "\n",
    "a = random.randint(100)\n",
    "print(a)"
   ]
  },
  {
   "cell_type": "code",
   "execution_count": 118,
   "metadata": {},
   "outputs": [
    {
     "name": "stdout",
     "output_type": "stream",
     "text": [
      "0.2709205373617005\n"
     ]
    }
   ],
   "source": [
    "# for random float\n",
    "a = random.rand()\n",
    "print(a)"
   ]
  },
  {
   "cell_type": "code",
   "execution_count": 119,
   "metadata": {},
   "outputs": [
    {
     "name": "stdout",
     "output_type": "stream",
     "text": [
      "[26 58 74 53 95]\n"
     ]
    }
   ],
   "source": [
    "# generate random arrays() - 1D\n",
    "\n",
    "from numpy import random\n",
    "\n",
    "a1 = random.randint(100,size=(5))\n",
    "print(a1)\n"
   ]
  },
  {
   "cell_type": "code",
   "execution_count": 120,
   "metadata": {},
   "outputs": [
    {
     "name": "stdout",
     "output_type": "stream",
     "text": [
      "[[20 96  0 69 40]\n",
      " [68 38 34 52 85]\n",
      " [76 30 75 29  1]]\n"
     ]
    }
   ],
   "source": [
    "# generate random arrays() - 2D\n",
    "\n",
    "from numpy import random\n",
    "\n",
    "a2 = random.randint(100,size=(3,5))\n",
    "print(a2)"
   ]
  },
  {
   "cell_type": "code",
   "execution_count": 121,
   "metadata": {},
   "outputs": [
    {
     "name": "stdout",
     "output_type": "stream",
     "text": [
      "[0.22748315 0.47574042 0.93519514 0.22917048 0.0028597 ]\n"
     ]
    }
   ],
   "source": [
    "# for floating 1D\n",
    "a = random.rand(5)\n",
    "print(a)"
   ]
  },
  {
   "cell_type": "code",
   "execution_count": 122,
   "metadata": {},
   "outputs": [
    {
     "name": "stdout",
     "output_type": "stream",
     "text": [
      "[[0.76336746 0.56299923 0.79662144 0.40502711 0.3415841 ]\n",
      " [0.78645742 0.14076023 0.3506033  0.6805513  0.39468395]\n",
      " [0.68552311 0.31142168 0.56562941 0.36098188 0.43983948]]\n"
     ]
    }
   ],
   "source": [
    "#for genrating 2d array\n",
    "a1 = random.rand(3,5)\n",
    "print(a1)\n"
   ]
  },
  {
   "cell_type": "code",
   "execution_count": 123,
   "metadata": {},
   "outputs": [
    {
     "name": "stdout",
     "output_type": "stream",
     "text": [
      "3\n"
     ]
    }
   ],
   "source": [
    "# generate random number from an array\n",
    "# choice()\n",
    "from numpy import random\n",
    "a = random.choice([3,5,6,7])\n",
    "print(a)"
   ]
  },
  {
   "cell_type": "code",
   "execution_count": 126,
   "metadata": {},
   "outputs": [
    {
     "name": "stdout",
     "output_type": "stream",
     "text": [
      "[[3 5 6 9]\n",
      " [6 3 5 5]\n",
      " [4 4 4 9]]\n"
     ]
    }
   ],
   "source": [
    "# generate a 2D from the random array\n",
    "a = random.choice([3,4,5,6,9],size=(3,4))\n",
    "print(a)"
   ]
  },
  {
   "cell_type": "code",
   "execution_count": null,
   "metadata": {},
   "outputs": [],
   "source": []
  }
 ],
 "metadata": {
  "kernelspec": {
   "display_name": "Python 3",
   "language": "python",
   "name": "python3"
  },
  "language_info": {
   "codemirror_mode": {
    "name": "ipython",
    "version": 3
   },
   "file_extension": ".py",
   "mimetype": "text/x-python",
   "name": "python",
   "nbconvert_exporter": "python",
   "pygments_lexer": "ipython3",
   "version": "3.8.10"
  }
 },
 "nbformat": 4,
 "nbformat_minor": 4
}
